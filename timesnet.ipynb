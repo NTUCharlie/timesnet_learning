{
 "cells": [
  {
   "cell_type": "code",
   "execution_count": 3,
   "metadata": {},
   "outputs": [],
   "source": [
    "import argparse\n",
    "import os\n",
    "import torch\n",
    "import torch.backends\n",
    "from exp.exp_long_term_forecasting import Exp_Long_Term_Forecast\n",
    "from exp.exp_imputation import Exp_Imputation\n",
    "from exp.exp_short_term_forecasting import Exp_Short_Term_Forecast\n",
    "from exp.exp_anomaly_detection import Exp_Anomaly_Detection\n",
    "from exp.exp_classification import Exp_Classification\n",
    "from utils.print_args import print_args\n",
    "import random\n",
    "import numpy as np\n",
    "from types import SimpleNamespace\n",
    "import pandas as pd\n",
    "%matplotlib inline"
   ]
  },
  {
   "cell_type": "code",
   "execution_count": null,
   "metadata": {},
   "outputs": [],
   "source": [
    "checkpoints/long_term_forecast_btc_96_96_close30_nontimef_withscale_TimesNet_custom_ftMS_sl720_ll0_pl1_dm4_nh8_el2_dl1_df4_expand2_dc4_fc3_ebtimeF_dtTrue_Exp_0"
   ]
  },
  {
   "cell_type": "code",
   "execution_count": 4,
   "metadata": {},
   "outputs": [
    {
     "name": "stdout",
     "output_type": "stream",
     "text": [
      "Use CPU\n"
     ]
    }
   ],
   "source": [
    "args = {\n",
    "    \"task_name\": \"long_term_forecast\",\n",
    "    \"is_training\": 1,\n",
    "    \"model_id\": \"close30_nontimef_withscale\",\n",
    "    \"model\": \"TimesNet\",\n",
    "    \"data\": \"custom\",\n",
    "    \"root_path\": \"/home/lchang003/Time-Series-Library/dataset/\",\n",
    "    \"data_path\": \"/home/lchang003/Time-Series-Library/dataset/btc_nopct.csv\",\n",
    "    \"features\": \"MS\",\n",
    "    \"target\": \"pct\",\n",
    "    \"freq\": \"t\",\n",
    "    \"checkpoints\": \"/home/lchang003/Time-Series-Library/checkpoints/\",\n",
    "    \"seq_len\": 720,\n",
    "    \"label_len\": 0,\n",
    "    \"pred_len\": 30,\n",
    "    \"seasonal_patterns\": \"Monthly\",\n",
    "    \"inverse\": False,\n",
    "    \"mask_rate\": 0.25,\n",
    "    \"anomaly_ratio\": 0.25,\n",
    "    \"expand\": 2,\n",
    "    \"d_conv\": 4,\n",
    "    \"top_k\": 4,\n",
    "    \"num_kernels\": 6,\n",
    "    \"enc_in\": 15,\n",
    "    \"dec_in\": 16,\n",
    "    \"c_out\": 1,\n",
    "    \"d_model\": 16,\n",
    "    \"n_heads\": 8,\n",
    "    \"e_layers\": 2,\n",
    "    \"d_layers\": 1,\n",
    "    \"d_ff\": 4,\n",
    "    \"moving_avg\": 25,\n",
    "    \"factor\": 3,\n",
    "    \"distil\": True,\n",
    "    \"dropout\": 0.1,\n",
    "    \"embed\": \"timeF\",\n",
    "    \"activation\": \"gelu\",\n",
    "    \"channel_independence\": 1,\n",
    "    \"decomp_method\": \"moving_avg\",\n",
    "    \"use_norm\": 1,\n",
    "    \"down_sampling_layers\": 0,\n",
    "    \"down_sampling_window\": 1,\n",
    "    \"down_sampling_method\": None,\n",
    "    \"seg_len\": 96,\n",
    "    \"num_workers\": 10,\n",
    "    \"itr\": 1,\n",
    "    \"train_epochs\": 10,\n",
    "    \"batch_size\": 7200,\n",
    "    \"patience\": 3,\n",
    "    \"learning_rate\": 0.0001,\n",
    "    \"des\": \"Exp\",\n",
    "    \"loss\": \"MSE\",\n",
    "    \"lradj\": \"type1\",\n",
    "    \"use_amp\": False,\n",
    "    \"use_gpu\": False,\n",
    "    \"gpu\": 0,\n",
    "    \"gpu_type\": \"cuda\",\n",
    "    \"use_multi_gpu\": False,\n",
    "    \"devices\": \"0,1,2,3\",\n",
    "    \"p_hidden_dims\": [128, 128],\n",
    "    \"p_hidden_layers\": 2,\n",
    "    \"use_dtw\": False,\n",
    "    \"augmentation_ratio\": 0,\n",
    "    \"seed\": 2,\n",
    "    \"jitter\": False,\n",
    "    \"scaling\": False,\n",
    "    \"permutation\": False,\n",
    "    \"randompermutation\": False,\n",
    "    \"magwarp\": False,\n",
    "    \"timewarp\": False,\n",
    "    \"windowslice\": False,\n",
    "    \"windowwarp\": False,\n",
    "    \"rotation\": False,\n",
    "    \"spawner\": False,\n",
    "    \"dtwwarp\": False,\n",
    "    \"shapedtwwarp\": False,\n",
    "    \"wdba\": False,\n",
    "    \"discdtw\": False,\n",
    "    \"discsdtw\": False,\n",
    "    \"extra_tag\": \"\",\n",
    "    \"patch_len\": 16,\n",
    "    \"device\": \"cpu\",\n",
    "}\n",
    "args = SimpleNamespace(**args)\n",
    "exp = Exp_Long_Term_Forecast(args)  # set experiments"
   ]
  },
  {
   "cell_type": "code",
   "execution_count": 9,
   "metadata": {},
   "outputs": [
    {
     "name": "stdout",
     "output_type": "stream",
     "text": [
      "test 435734\n"
     ]
    },
    {
     "data": {
      "text/plain": [
       "<data_provider.data_loader.Dataset_Custom at 0x7626433edac0>"
      ]
     },
     "execution_count": 9,
     "metadata": {},
     "output_type": "execute_result"
    }
   ],
   "source": [
    "test_set, test_loader = exp._get_data('test')  # get data\n",
    "test_set"
   ]
  },
  {
   "cell_type": "code",
   "execution_count": 13,
   "metadata": {},
   "outputs": [
    {
     "data": {
      "text/plain": [
       "array([[ 3.54100000e+00,  4.73600000e+00,  4.11728761e+06, ...,\n",
       "         6.12699500e+04,  6.12736263e+04, -3.19793766e-04],\n",
       "       [ 4.87700000e+00,  7.66700000e+00,  3.34080269e+06, ...,\n",
       "         6.13350500e+04,  6.13143986e+04,  1.06414406e-03],\n",
       "       [ 8.50400000e+00,  5.58400000e+00,  3.49715612e+06, ...,\n",
       "         6.12930500e+04,  6.13016658e+04, -6.84762885e-04],\n",
       "       ...,\n",
       "       [ 1.17730000e+01,  9.88000000e+00,  3.59097764e+06, ...,\n",
       "         8.67290500e+04,  8.66903797e+04,  4.77576954e-04],\n",
       "       [ 1.83900000e+00,  4.52800000e+00,  1.12773996e+06, ...,\n",
       "         8.67399000e+04,  8.67361879e+04,  1.25678839e-04],\n",
       "       [ 2.39500000e+00,  4.75600000e+00,  8.20345942e+05, ...,\n",
       "         8.67537000e+04,  8.67449554e+04,  1.60249205e-04]])"
      ]
     },
     "execution_count": 13,
     "metadata": {},
     "output_type": "execute_result"
    }
   ],
   "source": [
    "test_set.data_y"
   ]
  },
  {
   "cell_type": "code",
   "execution_count": 15,
   "metadata": {},
   "outputs": [
    {
     "name": "stdout",
     "output_type": "stream",
     "text": [
      "torch.Size([9600, 96, 16])\n",
      "torch.Size([9600, 10, 16])\n",
      "torch.Size([9600, 96, 5])\n",
      "torch.Size([9600, 10, 5])\n"
     ]
    }
   ],
   "source": [
    "for i, (batch_x, batch_y, batch_x_mark, batch_y_mark) in enumerate(test_loader):\n",
    "    print(batch_x.shape)\n",
    "    print(batch_y.shape)\n",
    "    print(batch_x_mark.shape)\n",
    "    print(batch_y_mark.shape)\n",
    "\n",
    "    break\n"
   ]
  },
  {
   "cell_type": "code",
   "execution_count": 16,
   "metadata": {},
   "outputs": [
    {
     "data": {
      "text/plain": [
       "tensor([[[-0.4661, -0.1522,  0.0000, -0.2333, -0.1466],\n",
       "         [-0.4492, -0.1522,  0.0000, -0.2333, -0.1466],\n",
       "         [-0.4322, -0.1522,  0.0000, -0.2333, -0.1466],\n",
       "         ...,\n",
       "         [ 0.0932, -0.1087,  0.0000, -0.2333, -0.1466],\n",
       "         [ 0.1102, -0.1087,  0.0000, -0.2333, -0.1466],\n",
       "         [ 0.1271, -0.1087,  0.0000, -0.2333, -0.1466]],\n",
       "\n",
       "        [[-0.4492, -0.1522,  0.0000, -0.2333, -0.1466],\n",
       "         [-0.4322, -0.1522,  0.0000, -0.2333, -0.1466],\n",
       "         [-0.4153, -0.1522,  0.0000, -0.2333, -0.1466],\n",
       "         ...,\n",
       "         [ 0.1102, -0.1087,  0.0000, -0.2333, -0.1466],\n",
       "         [ 0.1271, -0.1087,  0.0000, -0.2333, -0.1466],\n",
       "         [ 0.1441, -0.1087,  0.0000, -0.2333, -0.1466]],\n",
       "\n",
       "        [[-0.4322, -0.1522,  0.0000, -0.2333, -0.1466],\n",
       "         [-0.4153, -0.1522,  0.0000, -0.2333, -0.1466],\n",
       "         [-0.3983, -0.1522,  0.0000, -0.2333, -0.1466],\n",
       "         ...,\n",
       "         [ 0.1271, -0.1087,  0.0000, -0.2333, -0.1466],\n",
       "         [ 0.1441, -0.1087,  0.0000, -0.2333, -0.1466],\n",
       "         [ 0.1610, -0.1087,  0.0000, -0.2333, -0.1466]],\n",
       "\n",
       "        ...,\n",
       "\n",
       "        [[ 0.5000,  0.5000, -0.1667, -0.0333, -0.1301],\n",
       "         [-0.5000, -0.5000,  0.0000,  0.0000, -0.1274],\n",
       "         [-0.4831, -0.5000,  0.0000,  0.0000, -0.1274],\n",
       "         ...,\n",
       "         [ 0.0424, -0.4565,  0.0000,  0.0000, -0.1274],\n",
       "         [ 0.0593, -0.4565,  0.0000,  0.0000, -0.1274],\n",
       "         [ 0.0763, -0.4565,  0.0000,  0.0000, -0.1274]],\n",
       "\n",
       "        [[-0.5000, -0.5000,  0.0000,  0.0000, -0.1274],\n",
       "         [-0.4831, -0.5000,  0.0000,  0.0000, -0.1274],\n",
       "         [-0.4661, -0.5000,  0.0000,  0.0000, -0.1274],\n",
       "         ...,\n",
       "         [ 0.0593, -0.4565,  0.0000,  0.0000, -0.1274],\n",
       "         [ 0.0763, -0.4565,  0.0000,  0.0000, -0.1274],\n",
       "         [ 0.0932, -0.4565,  0.0000,  0.0000, -0.1274]],\n",
       "\n",
       "        [[-0.4831, -0.5000,  0.0000,  0.0000, -0.1274],\n",
       "         [-0.4661, -0.5000,  0.0000,  0.0000, -0.1274],\n",
       "         [-0.4492, -0.5000,  0.0000,  0.0000, -0.1274],\n",
       "         ...,\n",
       "         [ 0.0763, -0.4565,  0.0000,  0.0000, -0.1274],\n",
       "         [ 0.0932, -0.4565,  0.0000,  0.0000, -0.1274],\n",
       "         [ 0.1102, -0.4565,  0.0000,  0.0000, -0.1274]]], dtype=torch.float64)"
      ]
     },
     "execution_count": 16,
     "metadata": {},
     "output_type": "execute_result"
    }
   ],
   "source": [
    "batch_x_mark"
   ]
  },
  {
   "cell_type": "code",
   "execution_count": 19,
   "metadata": {},
   "outputs": [
    {
     "data": {
      "text/plain": [
       "torch.Size([9600, 96, 8])"
      ]
     },
     "execution_count": 19,
     "metadata": {},
     "output_type": "execute_result"
    }
   ],
   "source": [
    "enc_out = exp.model.enc_embedding(batch_x.float().to('cpu'),None)\n",
    "enc_out.shape"
   ]
  },
  {
   "cell_type": "code",
   "execution_count": 22,
   "metadata": {},
   "outputs": [
    {
     "data": {
      "text/plain": [
       "torch.Size([9600, 96, 8])"
      ]
     },
     "execution_count": 22,
     "metadata": {},
     "output_type": "execute_result"
    }
   ],
   "source": [
    "exp.model.enc_embedding.value_embedding(batch_x.float().to('cpu')).shape"
   ]
  },
  {
   "cell_type": "code",
   "execution_count": 25,
   "metadata": {},
   "outputs": [],
   "source": [
    "enc_out = exp.model.enc_embedding.forward(batch_x.float().to('cpu'),None)"
   ]
  },
  {
   "cell_type": "code",
   "execution_count": 28,
   "metadata": {},
   "outputs": [],
   "source": [
    "enc_out_1 = exp.model.predict_linear(enc_out.permute(0, 2, 1)).permute(0, 2, 1)"
   ]
  },
  {
   "cell_type": "code",
   "execution_count": 33,
   "metadata": {},
   "outputs": [
    {
     "data": {
      "text/plain": [
       "(array([ 9,  2, 13,  2]),\n",
       " tensor([[19873918., 12063305., 11817084., 10756670.],\n",
       "         [17069580., 10875812., 10812600.,  8715790.],\n",
       "         [19776814., 14891259.,  9889736.,  9996900.],\n",
       "         ...,\n",
       "         [32770640., 22095788., 15830253., 28999344.],\n",
       "         [36082548., 21888624., 22384384., 23356820.],\n",
       "         [20732938., 14727906., 25936584., 25190944.]],\n",
       "        grad_fn=<IndexBackward0>))"
      ]
     },
     "execution_count": 33,
     "metadata": {},
     "output_type": "execute_result"
    }
   ],
   "source": [
    "from models.TimesNet import FFT_for_Period\n",
    "FFT_for_Period(enc_out_1,4)"
   ]
  },
  {
   "cell_type": "code",
   "execution_count": 36,
   "metadata": {},
   "outputs": [
    {
     "data": {
      "text/plain": [
       "torch.Size([9600, 106, 8])"
      ]
     },
     "execution_count": 36,
     "metadata": {},
     "output_type": "execute_result"
    }
   ],
   "source": [
    "#first laryer of timesnet\n",
    "enc_out_2 = exp.model.model[0](enc_out_1)\n",
    "enc_out_2.shape"
   ]
  },
  {
   "cell_type": "code",
   "execution_count": 37,
   "metadata": {},
   "outputs": [
    {
     "data": {
      "text/plain": [
       "torch.Size([9600, 106, 8])"
      ]
     },
     "execution_count": 37,
     "metadata": {},
     "output_type": "execute_result"
    }
   ],
   "source": [
    "enc_out_3 = exp.model.layer_norm(enc_out_2)\n",
    "enc_out_3.shape"
   ]
  },
  {
   "cell_type": "code",
   "execution_count": 38,
   "metadata": {},
   "outputs": [
    {
     "data": {
      "text/plain": [
       "torch.Size([9600, 106, 1])"
      ]
     },
     "execution_count": 38,
     "metadata": {},
     "output_type": "execute_result"
    }
   ],
   "source": [
    "enc_out_4 = exp.model.projection(enc_out_3)\n",
    "enc_out_4.shape"
   ]
  },
  {
   "cell_type": "code",
   "execution_count": 42,
   "metadata": {},
   "outputs": [
    {
     "data": {
      "text/plain": [
       "tensor([[[-0.3413],\n",
       "         [-0.2669],\n",
       "         [ 0.1996],\n",
       "         ...,\n",
       "         [-0.0241],\n",
       "         [-0.3506],\n",
       "         [ 0.0566]],\n",
       "\n",
       "        [[-0.3798],\n",
       "         [-0.6336],\n",
       "         [ 0.1257],\n",
       "         ...,\n",
       "         [ 0.3805],\n",
       "         [-0.2626],\n",
       "         [-0.3464]],\n",
       "\n",
       "        [[-0.4227],\n",
       "         [-0.1682],\n",
       "         [ 0.3023],\n",
       "         ...,\n",
       "         [-0.3653],\n",
       "         [-0.9346],\n",
       "         [-0.9464]],\n",
       "\n",
       "        ...,\n",
       "\n",
       "        [[ 0.1431],\n",
       "         [-0.9160],\n",
       "         [ 0.3319],\n",
       "         ...,\n",
       "         [-0.7860],\n",
       "         [-0.9124],\n",
       "         [-0.3662]],\n",
       "\n",
       "        [[ 0.2538],\n",
       "         [ 0.1259],\n",
       "         [ 0.2928],\n",
       "         ...,\n",
       "         [-0.4946],\n",
       "         [-0.6196],\n",
       "         [-0.1226]],\n",
       "\n",
       "        [[-0.1587],\n",
       "         [-0.6593],\n",
       "         [-0.0476],\n",
       "         ...,\n",
       "         [-0.2865],\n",
       "         [-0.8555],\n",
       "         [-0.8475]]], grad_fn=<SliceBackward0>)"
      ]
     },
     "execution_count": 42,
     "metadata": {},
     "output_type": "execute_result"
    }
   ],
   "source": [
    "enc_out_4[:,-10:,-1:]"
   ]
  },
  {
   "cell_type": "code",
   "execution_count": 44,
   "metadata": {},
   "outputs": [
    {
     "data": {
      "text/plain": [
       "tensor([[[-0.0006],\n",
       "         [ 0.0008],\n",
       "         [ 0.0010],\n",
       "         ...,\n",
       "         [ 0.0004],\n",
       "         [-0.0003],\n",
       "         [-0.0006]],\n",
       "\n",
       "        [[ 0.0008],\n",
       "         [ 0.0010],\n",
       "         [ 0.0004],\n",
       "         ...,\n",
       "         [-0.0003],\n",
       "         [-0.0006],\n",
       "         [ 0.0015]],\n",
       "\n",
       "        [[ 0.0010],\n",
       "         [ 0.0004],\n",
       "         [-0.0003],\n",
       "         ...,\n",
       "         [-0.0006],\n",
       "         [ 0.0015],\n",
       "         [-0.0007]],\n",
       "\n",
       "        ...,\n",
       "\n",
       "        [[-0.0004],\n",
       "         [ 0.0005],\n",
       "         [-0.0006],\n",
       "         ...,\n",
       "         [-0.0005],\n",
       "         [ 0.0010],\n",
       "         [-0.0002]],\n",
       "\n",
       "        [[ 0.0005],\n",
       "         [-0.0006],\n",
       "         [-0.0003],\n",
       "         ...,\n",
       "         [ 0.0010],\n",
       "         [-0.0002],\n",
       "         [ 0.0003]],\n",
       "\n",
       "        [[-0.0006],\n",
       "         [-0.0003],\n",
       "         [-0.0001],\n",
       "         ...,\n",
       "         [-0.0002],\n",
       "         [ 0.0003],\n",
       "         [-0.0004]]], dtype=torch.float64)"
      ]
     },
     "execution_count": 44,
     "metadata": {},
     "output_type": "execute_result"
    }
   ],
   "source": [
    "batch_y[:,-10:,-1:]"
   ]
  },
  {
   "cell_type": "code",
   "execution_count": 58,
   "metadata": {},
   "outputs": [],
   "source": [
    "pred = np.load(\"/home/lchang003/Time-Series-Library/results/long_term_forecast_btc_96_96_nontimef_no_scale_TimesNet_custom_ftMS_sl96_ll0_pl1_dm8_nh8_el2_dl1_df8_expand2_dc4_fc3_ebtimeF_dtTrue_Exp_0/pred.npy\", allow_pickle=True)\n",
    "true = np.load(\"/home/lchang003/Time-Series-Library/results/long_term_forecast_btc_96_96_nontimef_no_scale_TimesNet_custom_ftMS_sl96_ll0_pl1_dm8_nh8_el2_dl1_df8_expand2_dc4_fc3_ebtimeF_dtTrue_Exp_0/true.npy\", allow_pickle=True)"
   ]
  },
  {
   "cell_type": "code",
   "execution_count": 59,
   "metadata": {},
   "outputs": [],
   "source": [
    "import pandas as pd\n"
   ]
  },
  {
   "cell_type": "code",
   "execution_count": 62,
   "metadata": {},
   "outputs": [
    {
     "data": {
      "text/plain": [
       "array([[1.        , 0.00147291],\n",
       "       [0.00147291, 1.        ]])"
      ]
     },
     "execution_count": 62,
     "metadata": {},
     "output_type": "execute_result"
    }
   ],
   "source": [
    "np.corrcoef(pred.flatten(), true.flatten())"
   ]
  },
  {
   "cell_type": "code",
   "execution_count": null,
   "metadata": {},
   "outputs": [],
   "source": []
  },
  {
   "cell_type": "code",
   "execution_count": null,
   "metadata": {},
   "outputs": [
    {
     "data": {
      "text/plain": [
       "<Axes: >"
      ]
     },
     "execution_count": 65,
     "metadata": {},
     "output_type": "execute_result"
    }
   ],
   "source": []
  },
  {
   "cell_type": "code",
   "execution_count": 42,
   "metadata": {},
   "outputs": [],
   "source": [
    "import matplotlib.pyplot as plt\n",
    "pd.Series(y_true).plot()\n",
    "plt.show()"
   ]
  },
  {
   "cell_type": "markdown",
   "metadata": {},
   "source": [
    "# checkpoint load"
   ]
  },
  {
   "cell_type": "code",
   "execution_count": 6,
   "metadata": {},
   "outputs": [],
   "source": [
    "loaded = torch.load('/home/lchang003/Time-Series-Library/checkpoints/long_term_forecast_btc_96_96_close30_nontimef_withscale_TimesNet_custom_ftMS_sl720_ll0_pl1_dm4_nh8_el2_dl1_df4_expand2_dc4_fc3_ebtimeF_dtTrue_Exp_0/checkpoint.pth')"
   ]
  },
  {
   "cell_type": "code",
   "execution_count": 7,
   "metadata": {},
   "outputs": [
    {
     "data": {
      "text/plain": [
       "odict_keys(['model.0.conv.0.kernels.0.weight', 'model.0.conv.0.kernels.0.bias', 'model.0.conv.0.kernels.1.weight', 'model.0.conv.0.kernels.1.bias', 'model.0.conv.0.kernels.2.weight', 'model.0.conv.0.kernels.2.bias', 'model.0.conv.0.kernels.3.weight', 'model.0.conv.0.kernels.3.bias', 'model.0.conv.0.kernels.4.weight', 'model.0.conv.0.kernels.4.bias', 'model.0.conv.0.kernels.5.weight', 'model.0.conv.0.kernels.5.bias', 'model.0.conv.2.kernels.0.weight', 'model.0.conv.2.kernels.0.bias', 'model.0.conv.2.kernels.1.weight', 'model.0.conv.2.kernels.1.bias', 'model.0.conv.2.kernels.2.weight', 'model.0.conv.2.kernels.2.bias', 'model.0.conv.2.kernels.3.weight', 'model.0.conv.2.kernels.3.bias', 'model.0.conv.2.kernels.4.weight', 'model.0.conv.2.kernels.4.bias', 'model.0.conv.2.kernels.5.weight', 'model.0.conv.2.kernels.5.bias', 'model.1.conv.0.kernels.0.weight', 'model.1.conv.0.kernels.0.bias', 'model.1.conv.0.kernels.1.weight', 'model.1.conv.0.kernels.1.bias', 'model.1.conv.0.kernels.2.weight', 'model.1.conv.0.kernels.2.bias', 'model.1.conv.0.kernels.3.weight', 'model.1.conv.0.kernels.3.bias', 'model.1.conv.0.kernels.4.weight', 'model.1.conv.0.kernels.4.bias', 'model.1.conv.0.kernels.5.weight', 'model.1.conv.0.kernels.5.bias', 'model.1.conv.2.kernels.0.weight', 'model.1.conv.2.kernels.0.bias', 'model.1.conv.2.kernels.1.weight', 'model.1.conv.2.kernels.1.bias', 'model.1.conv.2.kernels.2.weight', 'model.1.conv.2.kernels.2.bias', 'model.1.conv.2.kernels.3.weight', 'model.1.conv.2.kernels.3.bias', 'model.1.conv.2.kernels.4.weight', 'model.1.conv.2.kernels.4.bias', 'model.1.conv.2.kernels.5.weight', 'model.1.conv.2.kernels.5.bias', 'enc_embedding.value_embedding.tokenConv.weight', 'enc_embedding.position_embedding.pe', 'enc_embedding.temporal_embedding.embed.weight', 'layer_norm.weight', 'layer_norm.bias', 'predict_linear.weight', 'predict_linear.bias', 'projection.weight', 'projection.bias'])"
      ]
     },
     "execution_count": 7,
     "metadata": {},
     "output_type": "execute_result"
    }
   ],
   "source": [
    "loaded.keys()"
   ]
  },
  {
   "cell_type": "code",
   "execution_count": 8,
   "metadata": {},
   "outputs": [
    {
     "name": "stdout",
     "output_type": "stream",
     "text": [
      "Use CPU\n"
     ]
    },
    {
     "ename": "RuntimeError",
     "evalue": "Error(s) in loading state_dict for Model:\n\tsize mismatch for model.0.conv.0.kernels.0.weight: copying a param with shape torch.Size([4, 4, 1, 1]) from checkpoint, the shape in current model is torch.Size([4, 16, 1, 1]).\n\tsize mismatch for model.0.conv.0.kernels.1.weight: copying a param with shape torch.Size([4, 4, 3, 3]) from checkpoint, the shape in current model is torch.Size([4, 16, 3, 3]).\n\tsize mismatch for model.0.conv.0.kernels.2.weight: copying a param with shape torch.Size([4, 4, 5, 5]) from checkpoint, the shape in current model is torch.Size([4, 16, 5, 5]).\n\tsize mismatch for model.0.conv.0.kernels.3.weight: copying a param with shape torch.Size([4, 4, 7, 7]) from checkpoint, the shape in current model is torch.Size([4, 16, 7, 7]).\n\tsize mismatch for model.0.conv.0.kernels.4.weight: copying a param with shape torch.Size([4, 4, 9, 9]) from checkpoint, the shape in current model is torch.Size([4, 16, 9, 9]).\n\tsize mismatch for model.0.conv.0.kernels.5.weight: copying a param with shape torch.Size([4, 4, 11, 11]) from checkpoint, the shape in current model is torch.Size([4, 16, 11, 11]).\n\tsize mismatch for model.0.conv.2.kernels.0.weight: copying a param with shape torch.Size([4, 4, 1, 1]) from checkpoint, the shape in current model is torch.Size([16, 4, 1, 1]).\n\tsize mismatch for model.0.conv.2.kernels.0.bias: copying a param with shape torch.Size([4]) from checkpoint, the shape in current model is torch.Size([16]).\n\tsize mismatch for model.0.conv.2.kernels.1.weight: copying a param with shape torch.Size([4, 4, 3, 3]) from checkpoint, the shape in current model is torch.Size([16, 4, 3, 3]).\n\tsize mismatch for model.0.conv.2.kernels.1.bias: copying a param with shape torch.Size([4]) from checkpoint, the shape in current model is torch.Size([16]).\n\tsize mismatch for model.0.conv.2.kernels.2.weight: copying a param with shape torch.Size([4, 4, 5, 5]) from checkpoint, the shape in current model is torch.Size([16, 4, 5, 5]).\n\tsize mismatch for model.0.conv.2.kernels.2.bias: copying a param with shape torch.Size([4]) from checkpoint, the shape in current model is torch.Size([16]).\n\tsize mismatch for model.0.conv.2.kernels.3.weight: copying a param with shape torch.Size([4, 4, 7, 7]) from checkpoint, the shape in current model is torch.Size([16, 4, 7, 7]).\n\tsize mismatch for model.0.conv.2.kernels.3.bias: copying a param with shape torch.Size([4]) from checkpoint, the shape in current model is torch.Size([16]).\n\tsize mismatch for model.0.conv.2.kernels.4.weight: copying a param with shape torch.Size([4, 4, 9, 9]) from checkpoint, the shape in current model is torch.Size([16, 4, 9, 9]).\n\tsize mismatch for model.0.conv.2.kernels.4.bias: copying a param with shape torch.Size([4]) from checkpoint, the shape in current model is torch.Size([16]).\n\tsize mismatch for model.0.conv.2.kernels.5.weight: copying a param with shape torch.Size([4, 4, 11, 11]) from checkpoint, the shape in current model is torch.Size([16, 4, 11, 11]).\n\tsize mismatch for model.0.conv.2.kernels.5.bias: copying a param with shape torch.Size([4]) from checkpoint, the shape in current model is torch.Size([16]).\n\tsize mismatch for model.1.conv.0.kernels.0.weight: copying a param with shape torch.Size([4, 4, 1, 1]) from checkpoint, the shape in current model is torch.Size([4, 16, 1, 1]).\n\tsize mismatch for model.1.conv.0.kernels.1.weight: copying a param with shape torch.Size([4, 4, 3, 3]) from checkpoint, the shape in current model is torch.Size([4, 16, 3, 3]).\n\tsize mismatch for model.1.conv.0.kernels.2.weight: copying a param with shape torch.Size([4, 4, 5, 5]) from checkpoint, the shape in current model is torch.Size([4, 16, 5, 5]).\n\tsize mismatch for model.1.conv.0.kernels.3.weight: copying a param with shape torch.Size([4, 4, 7, 7]) from checkpoint, the shape in current model is torch.Size([4, 16, 7, 7]).\n\tsize mismatch for model.1.conv.0.kernels.4.weight: copying a param with shape torch.Size([4, 4, 9, 9]) from checkpoint, the shape in current model is torch.Size([4, 16, 9, 9]).\n\tsize mismatch for model.1.conv.0.kernels.5.weight: copying a param with shape torch.Size([4, 4, 11, 11]) from checkpoint, the shape in current model is torch.Size([4, 16, 11, 11]).\n\tsize mismatch for model.1.conv.2.kernels.0.weight: copying a param with shape torch.Size([4, 4, 1, 1]) from checkpoint, the shape in current model is torch.Size([16, 4, 1, 1]).\n\tsize mismatch for model.1.conv.2.kernels.0.bias: copying a param with shape torch.Size([4]) from checkpoint, the shape in current model is torch.Size([16]).\n\tsize mismatch for model.1.conv.2.kernels.1.weight: copying a param with shape torch.Size([4, 4, 3, 3]) from checkpoint, the shape in current model is torch.Size([16, 4, 3, 3]).\n\tsize mismatch for model.1.conv.2.kernels.1.bias: copying a param with shape torch.Size([4]) from checkpoint, the shape in current model is torch.Size([16]).\n\tsize mismatch for model.1.conv.2.kernels.2.weight: copying a param with shape torch.Size([4, 4, 5, 5]) from checkpoint, the shape in current model is torch.Size([16, 4, 5, 5]).\n\tsize mismatch for model.1.conv.2.kernels.2.bias: copying a param with shape torch.Size([4]) from checkpoint, the shape in current model is torch.Size([16]).\n\tsize mismatch for model.1.conv.2.kernels.3.weight: copying a param with shape torch.Size([4, 4, 7, 7]) from checkpoint, the shape in current model is torch.Size([16, 4, 7, 7]).\n\tsize mismatch for model.1.conv.2.kernels.3.bias: copying a param with shape torch.Size([4]) from checkpoint, the shape in current model is torch.Size([16]).\n\tsize mismatch for model.1.conv.2.kernels.4.weight: copying a param with shape torch.Size([4, 4, 9, 9]) from checkpoint, the shape in current model is torch.Size([16, 4, 9, 9]).\n\tsize mismatch for model.1.conv.2.kernels.4.bias: copying a param with shape torch.Size([4]) from checkpoint, the shape in current model is torch.Size([16]).\n\tsize mismatch for model.1.conv.2.kernels.5.weight: copying a param with shape torch.Size([4, 4, 11, 11]) from checkpoint, the shape in current model is torch.Size([16, 4, 11, 11]).\n\tsize mismatch for model.1.conv.2.kernels.5.bias: copying a param with shape torch.Size([4]) from checkpoint, the shape in current model is torch.Size([16]).\n\tsize mismatch for enc_embedding.value_embedding.tokenConv.weight: copying a param with shape torch.Size([4, 16, 3]) from checkpoint, the shape in current model is torch.Size([16, 15, 3]).\n\tsize mismatch for enc_embedding.position_embedding.pe: copying a param with shape torch.Size([1, 5000, 4]) from checkpoint, the shape in current model is torch.Size([1, 5000, 16]).\n\tsize mismatch for enc_embedding.temporal_embedding.embed.weight: copying a param with shape torch.Size([4, 5]) from checkpoint, the shape in current model is torch.Size([16, 5]).\n\tsize mismatch for layer_norm.weight: copying a param with shape torch.Size([4]) from checkpoint, the shape in current model is torch.Size([16]).\n\tsize mismatch for layer_norm.bias: copying a param with shape torch.Size([4]) from checkpoint, the shape in current model is torch.Size([16]).\n\tsize mismatch for predict_linear.weight: copying a param with shape torch.Size([721, 720]) from checkpoint, the shape in current model is torch.Size([750, 720]).\n\tsize mismatch for predict_linear.bias: copying a param with shape torch.Size([721]) from checkpoint, the shape in current model is torch.Size([750]).\n\tsize mismatch for projection.weight: copying a param with shape torch.Size([1, 4]) from checkpoint, the shape in current model is torch.Size([1, 16]).",
     "output_type": "error",
     "traceback": [
      "\u001b[0;31m---------------------------------------------------------------------------\u001b[0m",
      "\u001b[0;31mRuntimeError\u001b[0m                              Traceback (most recent call last)",
      "Cell \u001b[0;32mIn[8], line 2\u001b[0m\n\u001b[1;32m      1\u001b[0m exp \u001b[38;5;241m=\u001b[39m Exp_Long_Term_Forecast(args)  \u001b[38;5;66;03m# Replace with your model class and arguments\u001b[39;00m\n\u001b[0;32m----> 2\u001b[0m \u001b[43mexp\u001b[49m\u001b[38;5;241;43m.\u001b[39;49m\u001b[43mmodel\u001b[49m\u001b[38;5;241;43m.\u001b[39;49m\u001b[43mload_state_dict\u001b[49m\u001b[43m(\u001b[49m\u001b[43mtorch\u001b[49m\u001b[38;5;241;43m.\u001b[39;49m\u001b[43mload\u001b[49m\u001b[43m(\u001b[49m\u001b[38;5;124;43m'\u001b[39;49m\u001b[38;5;124;43m/home/lchang003/Time-Series-Library/checkpoints/long_term_forecast_btc_96_96_close30_nontimef_withscale_TimesNet_custom_ftMS_sl720_ll0_pl1_dm4_nh8_el2_dl1_df4_expand2_dc4_fc3_ebtimeF_dtTrue_Exp_0/checkpoint.pth\u001b[39;49m\u001b[38;5;124;43m'\u001b[39;49m\u001b[43m)\u001b[49m\u001b[43m)\u001b[49m\n\u001b[1;32m      3\u001b[0m exp\u001b[38;5;241m.\u001b[39mmodel\u001b[38;5;241m.\u001b[39meval()  \u001b[38;5;66;03m# Set the model to evaluation mode\u001b[39;00m\n",
      "File \u001b[0;32m~/anaconda3/envs/timesnet/lib/python3.8/site-packages/torch/nn/modules/module.py:2041\u001b[0m, in \u001b[0;36mModule.load_state_dict\u001b[0;34m(self, state_dict, strict)\u001b[0m\n\u001b[1;32m   2036\u001b[0m         error_msgs\u001b[38;5;241m.\u001b[39minsert(\n\u001b[1;32m   2037\u001b[0m             \u001b[38;5;241m0\u001b[39m, \u001b[38;5;124m'\u001b[39m\u001b[38;5;124mMissing key(s) in state_dict: \u001b[39m\u001b[38;5;132;01m{}\u001b[39;00m\u001b[38;5;124m. \u001b[39m\u001b[38;5;124m'\u001b[39m\u001b[38;5;241m.\u001b[39mformat(\n\u001b[1;32m   2038\u001b[0m                 \u001b[38;5;124m'\u001b[39m\u001b[38;5;124m, \u001b[39m\u001b[38;5;124m'\u001b[39m\u001b[38;5;241m.\u001b[39mjoin(\u001b[38;5;124m'\u001b[39m\u001b[38;5;124m\"\u001b[39m\u001b[38;5;132;01m{}\u001b[39;00m\u001b[38;5;124m\"\u001b[39m\u001b[38;5;124m'\u001b[39m\u001b[38;5;241m.\u001b[39mformat(k) \u001b[38;5;28;01mfor\u001b[39;00m k \u001b[38;5;129;01min\u001b[39;00m missing_keys)))\n\u001b[1;32m   2040\u001b[0m \u001b[38;5;28;01mif\u001b[39;00m \u001b[38;5;28mlen\u001b[39m(error_msgs) \u001b[38;5;241m>\u001b[39m \u001b[38;5;241m0\u001b[39m:\n\u001b[0;32m-> 2041\u001b[0m     \u001b[38;5;28;01mraise\u001b[39;00m \u001b[38;5;167;01mRuntimeError\u001b[39;00m(\u001b[38;5;124m'\u001b[39m\u001b[38;5;124mError(s) in loading state_dict for \u001b[39m\u001b[38;5;132;01m{}\u001b[39;00m\u001b[38;5;124m:\u001b[39m\u001b[38;5;130;01m\\n\u001b[39;00m\u001b[38;5;130;01m\\t\u001b[39;00m\u001b[38;5;132;01m{}\u001b[39;00m\u001b[38;5;124m'\u001b[39m\u001b[38;5;241m.\u001b[39mformat(\n\u001b[1;32m   2042\u001b[0m                        \u001b[38;5;28mself\u001b[39m\u001b[38;5;241m.\u001b[39m\u001b[38;5;18m__class__\u001b[39m\u001b[38;5;241m.\u001b[39m\u001b[38;5;18m__name__\u001b[39m, \u001b[38;5;124m\"\u001b[39m\u001b[38;5;130;01m\\n\u001b[39;00m\u001b[38;5;130;01m\\t\u001b[39;00m\u001b[38;5;124m\"\u001b[39m\u001b[38;5;241m.\u001b[39mjoin(error_msgs)))\n\u001b[1;32m   2043\u001b[0m \u001b[38;5;28;01mreturn\u001b[39;00m _IncompatibleKeys(missing_keys, unexpected_keys)\n",
      "\u001b[0;31mRuntimeError\u001b[0m: Error(s) in loading state_dict for Model:\n\tsize mismatch for model.0.conv.0.kernels.0.weight: copying a param with shape torch.Size([4, 4, 1, 1]) from checkpoint, the shape in current model is torch.Size([4, 16, 1, 1]).\n\tsize mismatch for model.0.conv.0.kernels.1.weight: copying a param with shape torch.Size([4, 4, 3, 3]) from checkpoint, the shape in current model is torch.Size([4, 16, 3, 3]).\n\tsize mismatch for model.0.conv.0.kernels.2.weight: copying a param with shape torch.Size([4, 4, 5, 5]) from checkpoint, the shape in current model is torch.Size([4, 16, 5, 5]).\n\tsize mismatch for model.0.conv.0.kernels.3.weight: copying a param with shape torch.Size([4, 4, 7, 7]) from checkpoint, the shape in current model is torch.Size([4, 16, 7, 7]).\n\tsize mismatch for model.0.conv.0.kernels.4.weight: copying a param with shape torch.Size([4, 4, 9, 9]) from checkpoint, the shape in current model is torch.Size([4, 16, 9, 9]).\n\tsize mismatch for model.0.conv.0.kernels.5.weight: copying a param with shape torch.Size([4, 4, 11, 11]) from checkpoint, the shape in current model is torch.Size([4, 16, 11, 11]).\n\tsize mismatch for model.0.conv.2.kernels.0.weight: copying a param with shape torch.Size([4, 4, 1, 1]) from checkpoint, the shape in current model is torch.Size([16, 4, 1, 1]).\n\tsize mismatch for model.0.conv.2.kernels.0.bias: copying a param with shape torch.Size([4]) from checkpoint, the shape in current model is torch.Size([16]).\n\tsize mismatch for model.0.conv.2.kernels.1.weight: copying a param with shape torch.Size([4, 4, 3, 3]) from checkpoint, the shape in current model is torch.Size([16, 4, 3, 3]).\n\tsize mismatch for model.0.conv.2.kernels.1.bias: copying a param with shape torch.Size([4]) from checkpoint, the shape in current model is torch.Size([16]).\n\tsize mismatch for model.0.conv.2.kernels.2.weight: copying a param with shape torch.Size([4, 4, 5, 5]) from checkpoint, the shape in current model is torch.Size([16, 4, 5, 5]).\n\tsize mismatch for model.0.conv.2.kernels.2.bias: copying a param with shape torch.Size([4]) from checkpoint, the shape in current model is torch.Size([16]).\n\tsize mismatch for model.0.conv.2.kernels.3.weight: copying a param with shape torch.Size([4, 4, 7, 7]) from checkpoint, the shape in current model is torch.Size([16, 4, 7, 7]).\n\tsize mismatch for model.0.conv.2.kernels.3.bias: copying a param with shape torch.Size([4]) from checkpoint, the shape in current model is torch.Size([16]).\n\tsize mismatch for model.0.conv.2.kernels.4.weight: copying a param with shape torch.Size([4, 4, 9, 9]) from checkpoint, the shape in current model is torch.Size([16, 4, 9, 9]).\n\tsize mismatch for model.0.conv.2.kernels.4.bias: copying a param with shape torch.Size([4]) from checkpoint, the shape in current model is torch.Size([16]).\n\tsize mismatch for model.0.conv.2.kernels.5.weight: copying a param with shape torch.Size([4, 4, 11, 11]) from checkpoint, the shape in current model is torch.Size([16, 4, 11, 11]).\n\tsize mismatch for model.0.conv.2.kernels.5.bias: copying a param with shape torch.Size([4]) from checkpoint, the shape in current model is torch.Size([16]).\n\tsize mismatch for model.1.conv.0.kernels.0.weight: copying a param with shape torch.Size([4, 4, 1, 1]) from checkpoint, the shape in current model is torch.Size([4, 16, 1, 1]).\n\tsize mismatch for model.1.conv.0.kernels.1.weight: copying a param with shape torch.Size([4, 4, 3, 3]) from checkpoint, the shape in current model is torch.Size([4, 16, 3, 3]).\n\tsize mismatch for model.1.conv.0.kernels.2.weight: copying a param with shape torch.Size([4, 4, 5, 5]) from checkpoint, the shape in current model is torch.Size([4, 16, 5, 5]).\n\tsize mismatch for model.1.conv.0.kernels.3.weight: copying a param with shape torch.Size([4, 4, 7, 7]) from checkpoint, the shape in current model is torch.Size([4, 16, 7, 7]).\n\tsize mismatch for model.1.conv.0.kernels.4.weight: copying a param with shape torch.Size([4, 4, 9, 9]) from checkpoint, the shape in current model is torch.Size([4, 16, 9, 9]).\n\tsize mismatch for model.1.conv.0.kernels.5.weight: copying a param with shape torch.Size([4, 4, 11, 11]) from checkpoint, the shape in current model is torch.Size([4, 16, 11, 11]).\n\tsize mismatch for model.1.conv.2.kernels.0.weight: copying a param with shape torch.Size([4, 4, 1, 1]) from checkpoint, the shape in current model is torch.Size([16, 4, 1, 1]).\n\tsize mismatch for model.1.conv.2.kernels.0.bias: copying a param with shape torch.Size([4]) from checkpoint, the shape in current model is torch.Size([16]).\n\tsize mismatch for model.1.conv.2.kernels.1.weight: copying a param with shape torch.Size([4, 4, 3, 3]) from checkpoint, the shape in current model is torch.Size([16, 4, 3, 3]).\n\tsize mismatch for model.1.conv.2.kernels.1.bias: copying a param with shape torch.Size([4]) from checkpoint, the shape in current model is torch.Size([16]).\n\tsize mismatch for model.1.conv.2.kernels.2.weight: copying a param with shape torch.Size([4, 4, 5, 5]) from checkpoint, the shape in current model is torch.Size([16, 4, 5, 5]).\n\tsize mismatch for model.1.conv.2.kernels.2.bias: copying a param with shape torch.Size([4]) from checkpoint, the shape in current model is torch.Size([16]).\n\tsize mismatch for model.1.conv.2.kernels.3.weight: copying a param with shape torch.Size([4, 4, 7, 7]) from checkpoint, the shape in current model is torch.Size([16, 4, 7, 7]).\n\tsize mismatch for model.1.conv.2.kernels.3.bias: copying a param with shape torch.Size([4]) from checkpoint, the shape in current model is torch.Size([16]).\n\tsize mismatch for model.1.conv.2.kernels.4.weight: copying a param with shape torch.Size([4, 4, 9, 9]) from checkpoint, the shape in current model is torch.Size([16, 4, 9, 9]).\n\tsize mismatch for model.1.conv.2.kernels.4.bias: copying a param with shape torch.Size([4]) from checkpoint, the shape in current model is torch.Size([16]).\n\tsize mismatch for model.1.conv.2.kernels.5.weight: copying a param with shape torch.Size([4, 4, 11, 11]) from checkpoint, the shape in current model is torch.Size([16, 4, 11, 11]).\n\tsize mismatch for model.1.conv.2.kernels.5.bias: copying a param with shape torch.Size([4]) from checkpoint, the shape in current model is torch.Size([16]).\n\tsize mismatch for enc_embedding.value_embedding.tokenConv.weight: copying a param with shape torch.Size([4, 16, 3]) from checkpoint, the shape in current model is torch.Size([16, 15, 3]).\n\tsize mismatch for enc_embedding.position_embedding.pe: copying a param with shape torch.Size([1, 5000, 4]) from checkpoint, the shape in current model is torch.Size([1, 5000, 16]).\n\tsize mismatch for enc_embedding.temporal_embedding.embed.weight: copying a param with shape torch.Size([4, 5]) from checkpoint, the shape in current model is torch.Size([16, 5]).\n\tsize mismatch for layer_norm.weight: copying a param with shape torch.Size([4]) from checkpoint, the shape in current model is torch.Size([16]).\n\tsize mismatch for layer_norm.bias: copying a param with shape torch.Size([4]) from checkpoint, the shape in current model is torch.Size([16]).\n\tsize mismatch for predict_linear.weight: copying a param with shape torch.Size([721, 720]) from checkpoint, the shape in current model is torch.Size([750, 720]).\n\tsize mismatch for predict_linear.bias: copying a param with shape torch.Size([721]) from checkpoint, the shape in current model is torch.Size([750]).\n\tsize mismatch for projection.weight: copying a param with shape torch.Size([1, 4]) from checkpoint, the shape in current model is torch.Size([1, 16])."
     ]
    }
   ],
   "source": [
    "exp = Exp_Long_Term_Forecast(args)  # Replace with your model class and arguments\n",
    "exp.model.load_state_dict(torch.load('/home/lchang003/Time-Series-Library/checkpoints/long_term_forecast_btc_96_96_close30_nontimef_withscale_TimesNet_custom_ftMS_sl720_ll0_pl1_dm4_nh8_el2_dl1_df4_expand2_dc4_fc3_ebtimeF_dtTrue_Exp_0/checkpoint.pth'))\n",
    "exp.model.eval()  # Set the model to evaluation mode"
   ]
  },
  {
   "cell_type": "code",
   "execution_count": null,
   "metadata": {},
   "outputs": [
    {
     "name": "stdout",
     "output_type": "stream",
     "text": [
      "test 435743\n"
     ]
    },
    {
     "data": {
      "text/plain": [
       "<data_provider.data_loader.Dataset_Custom at 0x7c164a6a6310>"
      ]
     },
     "execution_count": 4,
     "metadata": {},
     "output_type": "execute_result"
    }
   ],
   "source": [
    "test_set, test_loader = exp._get_data('test')  # get data\n",
    "test_set"
   ]
  },
  {
   "cell_type": "code",
   "execution_count": null,
   "metadata": {},
   "outputs": [
    {
     "data": {
      "text/plain": [
       "(436463, 16)"
      ]
     },
     "execution_count": 19,
     "metadata": {},
     "output_type": "execute_result"
    }
   ],
   "source": [
    "test_set.data_y.shape"
   ]
  },
  {
   "cell_type": "code",
   "execution_count": null,
   "metadata": {},
   "outputs": [
    {
     "data": {
      "text/plain": [
       "tensor([[[-0.7425, -0.8259, -0.7365,  ...,  2.0942,  2.0942, -0.5220]],\n",
       "\n",
       "        [[-0.8459, -0.9448, -0.8663,  ...,  2.0911,  2.0910, -0.6297]],\n",
       "\n",
       "        [[-0.7646, -0.8597, -0.7615,  ...,  2.0934,  2.0933, -0.5432]],\n",
       "\n",
       "        ...,\n",
       "\n",
       "        [[-0.0489, -0.0708,  0.1813,  ...,  2.1980,  2.1980,  0.0994]],\n",
       "\n",
       "        [[ 0.0111, -0.0152,  0.2627,  ...,  2.2004,  2.2004,  0.1446]],\n",
       "\n",
       "        [[-0.1987, -0.2047, -0.0136,  ...,  2.1916,  2.1916, -0.0100]]],\n",
       "       grad_fn=<SliceBackward0>)"
      ]
     },
     "execution_count": 69,
     "metadata": {},
     "output_type": "execute_result"
    }
   ],
   "source": [
    "i, (batch_x, batch_y, batch_x_mark, batch_y_mark)  =  next(enumerate(test_loader))\n",
    "test_outputs = exp.model(batch_x.float().to('cpu'), None, None, None)\n",
    "test_outputs"
   ]
  },
  {
   "cell_type": "code",
   "execution_count": null,
   "metadata": {},
   "outputs": [
    {
     "data": {
      "text/plain": [
       "torch.Size([7200, 720, 16])"
      ]
     },
     "execution_count": 22,
     "metadata": {},
     "output_type": "execute_result"
    }
   ],
   "source": [
    "batch_x.shape"
   ]
  },
  {
   "cell_type": "code",
   "execution_count": null,
   "metadata": {},
   "outputs": [
    {
     "data": {
      "text/plain": [
       "torch.Size([7200, 1, 16])"
      ]
     },
     "execution_count": 23,
     "metadata": {},
     "output_type": "execute_result"
    }
   ],
   "source": [
    "batch_y.shape"
   ]
  },
  {
   "cell_type": "code",
   "execution_count": null,
   "metadata": {},
   "outputs": [
    {
     "data": {
      "text/plain": [
       "torch.Size([7200, 1, 16])"
      ]
     },
     "execution_count": 70,
     "metadata": {},
     "output_type": "execute_result"
    },
    {
     "ename": "",
     "evalue": "",
     "output_type": "error",
     "traceback": [
      "\u001b[1;31mThe Kernel crashed while executing code in the current cell or a previous cell. \n",
      "\u001b[1;31mPlease review the code in the cell(s) to identify a possible cause of the failure. \n",
      "\u001b[1;31mClick <a href='https://aka.ms/vscodeJupyterKernelCrash'>here</a> for more info. \n",
      "\u001b[1;31mView Jupyter <a href='command:jupyter.viewOutput'>log</a> for further details."
     ]
    }
   ],
   "source": [
    "test_outputs.shape"
   ]
  },
  {
   "cell_type": "code",
   "execution_count": null,
   "metadata": {},
   "outputs": [
    {
     "data": {
      "text/plain": [
       "True"
      ]
     },
     "execution_count": 10,
     "metadata": {},
     "output_type": "execute_result"
    }
   ],
   "source": [
    "test_set.scale"
   ]
  },
  {
   "cell_type": "code",
   "execution_count": null,
   "metadata": {},
   "outputs": [
    {
     "data": {
      "text/plain": [
       "tensor(0.4665, grad_fn=<MseLossBackward0>)"
      ]
     },
     "execution_count": 18,
     "metadata": {},
     "output_type": "execute_result"
    }
   ],
   "source": [
    "import torch.nn as nn\n",
    "nn.MSELoss()(test_outputs[:,0,-1], batch_y[:,0,-1].float().to('cpu'))"
   ]
  },
  {
   "cell_type": "code",
   "execution_count": null,
   "metadata": {},
   "outputs": [
    {
     "name": "stdout",
     "output_type": "stream",
     "text": [
      "0: -0.00940483881347998\n",
      "1: 0.04356713283477644\n",
      "2: -0.08867641036866934\n",
      "3: -0.029614278456186326\n",
      "4: -0.031801290200486526\n",
      "5: -0.0895681875667284\n",
      "6: -0.05764144562838003\n",
      "7: 0.02630679835599525\n",
      "8: 0.04570453435920458\n",
      "9: 0.6964708485010273\n",
      "10: 0.6992894034764691\n",
      "11: 0.6935460161187915\n",
      "12: 0.6963371185653536\n",
      "13: 0.6964630760997083\n",
      "14: 0.6966244246646524\n",
      "15: -0.00035887743664914844\n"
     ]
    }
   ],
   "source": [
    "for i in range(16):\n",
    "    test_pred = test_outputs[:,0,i].detach().numpy()    #（7200，1，16）\n",
    "    y_true = batch_y[:,0,i].detach().numpy()\n",
    "    corr = pd.Series(test_pred).corr(pd.Series(y_true))\n",
    "    print(f\"{i}: {corr}\")"
   ]
  },
  {
   "cell_type": "code",
   "execution_count": null,
   "metadata": {},
   "outputs": [
    {
     "data": {
      "text/plain": [
       "-0.00940483881347998"
      ]
     },
     "execution_count": 59,
     "metadata": {},
     "output_type": "execute_result"
    }
   ],
   "source": [
    "import pandas as pd\n"
   ]
  },
  {
   "cell_type": "code",
   "execution_count": null,
   "metadata": {},
   "outputs": [
    {
     "data": {
      "text/plain": [
       "-1.2513245"
      ]
     },
     "execution_count": 50,
     "metadata": {},
     "output_type": "execute_result"
    }
   ],
   "source": [
    "test_pred.min()"
   ]
  },
  {
   "cell_type": "code",
   "execution_count": null,
   "metadata": {},
   "outputs": [
    {
     "data": {
      "text/plain": [
       "-4.838954304684315"
      ]
     },
     "execution_count": 51,
     "metadata": {},
     "output_type": "execute_result"
    }
   ],
   "source": [
    "y_true.min()"
   ]
  },
  {
   "cell_type": "code",
   "execution_count": null,
   "metadata": {},
   "outputs": [
    {
     "data": {
      "image/png": "[encoded data removed]",
      "text/plain": [
       "<Figure size 640x480 with 1 Axes>"
      ]
     },
     "metadata": {},
     "output_type": "display_data"
    }
   ],
   "source": [
    "%matplotlib inline\n",
    "import matplotlib.pyplot as plt\n",
    "plt.close()\n",
    "plt.plot(y_true.flatten(), label='True')\n",
    "plt.plot(test_pred.flatten(), label='Predicted')\n",
    "plt.legend()\n",
    "plt.show()"
   ]
  },
  {
   "cell_type": "code",
   "execution_count": null,
   "metadata": {},
   "outputs": [
    {
     "data": {
      "text/plain": [
       "0.6966244246646524"
      ]
     },
     "execution_count": 67,
     "metadata": {},
     "output_type": "execute_result"
    }
   ],
   "source": [
    "test_pred = test_outputs[:,0,14].detach().numpy()    #（7200，1，16）\n",
    "y_true = batch_y[:,0,14].detach().numpy()\n",
    "corr = pd.Series(test_pred).corr(pd.Series(y_true))\n",
    "corr"
   ]
  },
  {
   "cell_type": "code",
   "execution_count": null,
   "metadata": {},
   "outputs": [
    {
     "data": {
      "text/plain": [
       "<Axes: >"
      ]
     },
     "execution_count": 68,
     "metadata": {},
     "output_type": "execute_result"
    },
    {
     "data": {
      "image/png": "[encoded data removed]",
      "text/plain": [
       "<Figure size 640x480 with 1 Axes>"
      ]
     },
     "metadata": {},
     "output_type": "display_data"
    }
   ],
   "source": [
    "(pd.Series(test_pred) * pd.Series(y_true)).cumsum().plot()"
   ]
  }
 ],
 "metadata": {
  "kernelspec": {
   "display_name": "timesnet",
   "language": "python",
   "name": "python3"
  },
  "language_info": {
   "codemirror_mode": {
    "name": "ipython",
    "version": 3
   },
   "file_extension": ".py",
   "mimetype": "text/x-python",
   "name": "python",
   "nbconvert_exporter": "python",
   "pygments_lexer": "ipython3",
   "version": "3.8.20"
  }
 },
 "nbformat": 4,
 "nbformat_minor": 2
}
