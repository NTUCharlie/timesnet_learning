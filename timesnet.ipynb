{
 "cells": [
  {
   "cell_type": "code",
   "execution_count": 3,
   "metadata": {},
   "outputs": [],
   "source": [
    "import argparse\n",
    "import os\n",
    "import torch\n",
    "import torch.backends\n",
    "from exp.exp_long_term_forecasting import Exp_Long_Term_Forecast\n",
    "from exp.exp_imputation import Exp_Imputation\n",
    "from exp.exp_short_term_forecasting import Exp_Short_Term_Forecast\n",
    "from exp.exp_anomaly_detection import Exp_Anomaly_Detection\n",
    "from exp.exp_classification import Exp_Classification\n",
    "from utils.print_args import print_args\n",
    "import random\n",
    "import numpy as np\n",
    "from types import SimpleNamespace\n"
   ]
  },
  {
   "cell_type": "code",
   "execution_count": 7,
   "metadata": {},
   "outputs": [
    {
     "name": "stdout",
     "output_type": "stream",
     "text": [
      "Use CPU\n"
     ]
    }
   ],
   "source": [
    "args = {\n",
    "    \"task_name\": \"long_term_forecast\",\n",
    "    \"is_training\": 1,\n",
    "    \"model_id\": \"btc_96_96_nontimef_no_scale\",\n",
    "    \"model\": \"TimesNet\",\n",
    "    \"data\": \"custom\",\n",
    "    \"root_path\": \"/home/lchang003/Time-Series-Library/dataset/\",\n",
    "    \"data_path\": \"/home/lchang003/Time-Series-Library/dataset/btc.csv\",\n",
    "    \"features\": \"MS\",\n",
    "    \"target\": \"pct\",\n",
    "    \"freq\": \"t\",\n",
    "    \"checkpoints\": \"/home/lchang003/Time-Series-Library/checkpoints/\",\n",
    "    \"seq_len\": 96,\n",
    "    \"label_len\": 0,\n",
    "    \"pred_len\": 10,\n",
    "    \"seasonal_patterns\": \"Monthly\",\n",
    "    \"inverse\": False,\n",
    "    \"mask_rate\": 0.25,\n",
    "    \"anomaly_ratio\": 0.25,\n",
    "    \"expand\": 2,\n",
    "    \"d_conv\": 4,\n",
    "    \"top_k\": 4,\n",
    "    \"num_kernels\": 6,\n",
    "    \"enc_in\": 16,\n",
    "    \"dec_in\": 16,\n",
    "    \"c_out\": 1,\n",
    "    \"d_model\": 8,\n",
    "    \"n_heads\": 8,\n",
    "    \"e_layers\": 2,\n",
    "    \"d_layers\": 1,\n",
    "    \"d_ff\": 8,\n",
    "    \"moving_avg\": 25,\n",
    "    \"factor\": 3,\n",
    "    \"distil\": True,\n",
    "    \"dropout\": 0.1,\n",
    "    \"embed\": \"timeF\",\n",
    "    \"activation\": \"gelu\",\n",
    "    \"channel_independence\": 1,\n",
    "    \"decomp_method\": \"moving_avg\",\n",
    "    \"use_norm\": 1,\n",
    "    \"down_sampling_layers\": 0,\n",
    "    \"down_sampling_window\": 1,\n",
    "    \"down_sampling_method\": None,\n",
    "    \"seg_len\": 96,\n",
    "    \"num_workers\": 10,\n",
    "    \"itr\": 1,\n",
    "    \"train_epochs\": 10,\n",
    "    \"batch_size\": 9600,\n",
    "    \"patience\": 3,\n",
    "    \"learning_rate\": 0.0001,\n",
    "    \"des\": \"Exp\",\n",
    "    \"loss\": \"MSE\",\n",
    "    \"lradj\": \"type1\",\n",
    "    \"use_amp\": False,\n",
    "    \"use_gpu\": False,\n",
    "    \"gpu\": 0,\n",
    "    \"gpu_type\": \"cuda\",\n",
    "    \"use_multi_gpu\": False,\n",
    "    \"devices\": \"0,1,2,3\",\n",
    "    \"p_hidden_dims\": [128, 128],\n",
    "    \"p_hidden_layers\": 2,\n",
    "    \"use_dtw\": False,\n",
    "    \"augmentation_ratio\": 0,\n",
    "    \"seed\": 2,\n",
    "    \"jitter\": False,\n",
    "    \"scaling\": False,\n",
    "    \"permutation\": False,\n",
    "    \"randompermutation\": False,\n",
    "    \"magwarp\": False,\n",
    "    \"timewarp\": False,\n",
    "    \"windowslice\": False,\n",
    "    \"windowwarp\": False,\n",
    "    \"rotation\": False,\n",
    "    \"spawner\": False,\n",
    "    \"dtwwarp\": False,\n",
    "    \"shapedtwwarp\": False,\n",
    "    \"wdba\": False,\n",
    "    \"discdtw\": False,\n",
    "    \"discsdtw\": False,\n",
    "    \"extra_tag\": \"\",\n",
    "    \"patch_len\": 16,\n",
    "    \"device\": \"cpu\",\n",
    "}\n",
    "args = SimpleNamespace(**args)\n",
    "exp = Exp_Long_Term_Forecast(args)  # set experiments"
   ]
  },
  {
   "cell_type": "code",
   "execution_count": 9,
   "metadata": {},
   "outputs": [
    {
     "name": "stdout",
     "output_type": "stream",
     "text": [
      "test 435734\n"
     ]
    },
    {
     "data": {
      "text/plain": [
       "<data_provider.data_loader.Dataset_Custom at 0x7626433edac0>"
      ]
     },
     "execution_count": 9,
     "metadata": {},
     "output_type": "execute_result"
    }
   ],
   "source": [
    "test_set, test_loader = exp._get_data('test')  # get data\n",
    "test_set"
   ]
  },
  {
   "cell_type": "code",
   "execution_count": 13,
   "metadata": {},
   "outputs": [
    {
     "data": {
      "text/plain": [
       "array([[ 3.54100000e+00,  4.73600000e+00,  4.11728761e+06, ...,\n",
       "         6.12699500e+04,  6.12736263e+04, -3.19793766e-04],\n",
       "       [ 4.87700000e+00,  7.66700000e+00,  3.34080269e+06, ...,\n",
       "         6.13350500e+04,  6.13143986e+04,  1.06414406e-03],\n",
       "       [ 8.50400000e+00,  5.58400000e+00,  3.49715612e+06, ...,\n",
       "         6.12930500e+04,  6.13016658e+04, -6.84762885e-04],\n",
       "       ...,\n",
       "       [ 1.17730000e+01,  9.88000000e+00,  3.59097764e+06, ...,\n",
       "         8.67290500e+04,  8.66903797e+04,  4.77576954e-04],\n",
       "       [ 1.83900000e+00,  4.52800000e+00,  1.12773996e+06, ...,\n",
       "         8.67399000e+04,  8.67361879e+04,  1.25678839e-04],\n",
       "       [ 2.39500000e+00,  4.75600000e+00,  8.20345942e+05, ...,\n",
       "         8.67537000e+04,  8.67449554e+04,  1.60249205e-04]])"
      ]
     },
     "execution_count": 13,
     "metadata": {},
     "output_type": "execute_result"
    }
   ],
   "source": [
    "test_set.data_y"
   ]
  },
  {
   "cell_type": "code",
   "execution_count": 15,
   "metadata": {},
   "outputs": [
    {
     "name": "stdout",
     "output_type": "stream",
     "text": [
      "torch.Size([9600, 96, 16])\n",
      "torch.Size([9600, 10, 16])\n",
      "torch.Size([9600, 96, 5])\n",
      "torch.Size([9600, 10, 5])\n"
     ]
    }
   ],
   "source": [
    "for i, (batch_x, batch_y, batch_x_mark, batch_y_mark) in enumerate(test_loader):\n",
    "    print(batch_x.shape)\n",
    "    print(batch_y.shape)\n",
    "    print(batch_x_mark.shape)\n",
    "    print(batch_y_mark.shape)\n",
    "\n",
    "    break\n"
   ]
  },
  {
   "cell_type": "code",
   "execution_count": 16,
   "metadata": {},
   "outputs": [
    {
     "data": {
      "text/plain": [
       "tensor([[[-0.4661, -0.1522,  0.0000, -0.2333, -0.1466],\n",
       "         [-0.4492, -0.1522,  0.0000, -0.2333, -0.1466],\n",
       "         [-0.4322, -0.1522,  0.0000, -0.2333, -0.1466],\n",
       "         ...,\n",
       "         [ 0.0932, -0.1087,  0.0000, -0.2333, -0.1466],\n",
       "         [ 0.1102, -0.1087,  0.0000, -0.2333, -0.1466],\n",
       "         [ 0.1271, -0.1087,  0.0000, -0.2333, -0.1466]],\n",
       "\n",
       "        [[-0.4492, -0.1522,  0.0000, -0.2333, -0.1466],\n",
       "         [-0.4322, -0.1522,  0.0000, -0.2333, -0.1466],\n",
       "         [-0.4153, -0.1522,  0.0000, -0.2333, -0.1466],\n",
       "         ...,\n",
       "         [ 0.1102, -0.1087,  0.0000, -0.2333, -0.1466],\n",
       "         [ 0.1271, -0.1087,  0.0000, -0.2333, -0.1466],\n",
       "         [ 0.1441, -0.1087,  0.0000, -0.2333, -0.1466]],\n",
       "\n",
       "        [[-0.4322, -0.1522,  0.0000, -0.2333, -0.1466],\n",
       "         [-0.4153, -0.1522,  0.0000, -0.2333, -0.1466],\n",
       "         [-0.3983, -0.1522,  0.0000, -0.2333, -0.1466],\n",
       "         ...,\n",
       "         [ 0.1271, -0.1087,  0.0000, -0.2333, -0.1466],\n",
       "         [ 0.1441, -0.1087,  0.0000, -0.2333, -0.1466],\n",
       "         [ 0.1610, -0.1087,  0.0000, -0.2333, -0.1466]],\n",
       "\n",
       "        ...,\n",
       "\n",
       "        [[ 0.5000,  0.5000, -0.1667, -0.0333, -0.1301],\n",
       "         [-0.5000, -0.5000,  0.0000,  0.0000, -0.1274],\n",
       "         [-0.4831, -0.5000,  0.0000,  0.0000, -0.1274],\n",
       "         ...,\n",
       "         [ 0.0424, -0.4565,  0.0000,  0.0000, -0.1274],\n",
       "         [ 0.0593, -0.4565,  0.0000,  0.0000, -0.1274],\n",
       "         [ 0.0763, -0.4565,  0.0000,  0.0000, -0.1274]],\n",
       "\n",
       "        [[-0.5000, -0.5000,  0.0000,  0.0000, -0.1274],\n",
       "         [-0.4831, -0.5000,  0.0000,  0.0000, -0.1274],\n",
       "         [-0.4661, -0.5000,  0.0000,  0.0000, -0.1274],\n",
       "         ...,\n",
       "         [ 0.0593, -0.4565,  0.0000,  0.0000, -0.1274],\n",
       "         [ 0.0763, -0.4565,  0.0000,  0.0000, -0.1274],\n",
       "         [ 0.0932, -0.4565,  0.0000,  0.0000, -0.1274]],\n",
       "\n",
       "        [[-0.4831, -0.5000,  0.0000,  0.0000, -0.1274],\n",
       "         [-0.4661, -0.5000,  0.0000,  0.0000, -0.1274],\n",
       "         [-0.4492, -0.5000,  0.0000,  0.0000, -0.1274],\n",
       "         ...,\n",
       "         [ 0.0763, -0.4565,  0.0000,  0.0000, -0.1274],\n",
       "         [ 0.0932, -0.4565,  0.0000,  0.0000, -0.1274],\n",
       "         [ 0.1102, -0.4565,  0.0000,  0.0000, -0.1274]]], dtype=torch.float64)"
      ]
     },
     "execution_count": 16,
     "metadata": {},
     "output_type": "execute_result"
    }
   ],
   "source": [
    "batch_x_mark"
   ]
  },
  {
   "cell_type": "code",
   "execution_count": 19,
   "metadata": {},
   "outputs": [
    {
     "data": {
      "text/plain": [
       "torch.Size([9600, 96, 8])"
      ]
     },
     "execution_count": 19,
     "metadata": {},
     "output_type": "execute_result"
    }
   ],
   "source": [
    "enc_out = exp.model.enc_embedding(batch_x.float().to('cpu'),None)\n",
    "enc_out.shape"
   ]
  },
  {
   "cell_type": "code",
   "execution_count": 22,
   "metadata": {},
   "outputs": [
    {
     "data": {
      "text/plain": [
       "torch.Size([9600, 96, 8])"
      ]
     },
     "execution_count": 22,
     "metadata": {},
     "output_type": "execute_result"
    }
   ],
   "source": [
    "exp.model.enc_embedding.value_embedding(batch_x.float().to('cpu')).shape"
   ]
  },
  {
   "cell_type": "code",
   "execution_count": 25,
   "metadata": {},
   "outputs": [],
   "source": [
    "enc_out = exp.model.enc_embedding.forward(batch_x.float().to('cpu'),None)"
   ]
  },
  {
   "cell_type": "code",
   "execution_count": 28,
   "metadata": {},
   "outputs": [],
   "source": [
    "enc_out_1 = exp.model.predict_linear(enc_out.permute(0, 2, 1)).permute(0, 2, 1)"
   ]
  },
  {
   "cell_type": "code",
   "execution_count": 33,
   "metadata": {},
   "outputs": [
    {
     "data": {
      "text/plain": [
       "(array([ 9,  2, 13,  2]),\n",
       " tensor([[19873918., 12063305., 11817084., 10756670.],\n",
       "         [17069580., 10875812., 10812600.,  8715790.],\n",
       "         [19776814., 14891259.,  9889736.,  9996900.],\n",
       "         ...,\n",
       "         [32770640., 22095788., 15830253., 28999344.],\n",
       "         [36082548., 21888624., 22384384., 23356820.],\n",
       "         [20732938., 14727906., 25936584., 25190944.]],\n",
       "        grad_fn=<IndexBackward0>))"
      ]
     },
     "execution_count": 33,
     "metadata": {},
     "output_type": "execute_result"
    }
   ],
   "source": [
    "from models.TimesNet import FFT_for_Period\n",
    "FFT_for_Period(enc_out_1,4)"
   ]
  },
  {
   "cell_type": "code",
   "execution_count": 36,
   "metadata": {},
   "outputs": [
    {
     "data": {
      "text/plain": [
       "torch.Size([9600, 106, 8])"
      ]
     },
     "execution_count": 36,
     "metadata": {},
     "output_type": "execute_result"
    }
   ],
   "source": [
    "#first laryer of timesnet\n",
    "enc_out_2 = exp.model.model[0](enc_out_1)\n",
    "enc_out_2.shape"
   ]
  },
  {
   "cell_type": "code",
   "execution_count": 37,
   "metadata": {},
   "outputs": [
    {
     "data": {
      "text/plain": [
       "torch.Size([9600, 106, 8])"
      ]
     },
     "execution_count": 37,
     "metadata": {},
     "output_type": "execute_result"
    }
   ],
   "source": [
    "enc_out_3 = exp.model.layer_norm(enc_out_2)\n",
    "enc_out_3.shape"
   ]
  },
  {
   "cell_type": "code",
   "execution_count": 38,
   "metadata": {},
   "outputs": [
    {
     "data": {
      "text/plain": [
       "torch.Size([9600, 106, 1])"
      ]
     },
     "execution_count": 38,
     "metadata": {},
     "output_type": "execute_result"
    }
   ],
   "source": [
    "enc_out_4 = exp.model.projection(enc_out_3)\n",
    "enc_out_4.shape"
   ]
  },
  {
   "cell_type": "code",
   "execution_count": 42,
   "metadata": {},
   "outputs": [
    {
     "data": {
      "text/plain": [
       "tensor([[[-0.3413],\n",
       "         [-0.2669],\n",
       "         [ 0.1996],\n",
       "         ...,\n",
       "         [-0.0241],\n",
       "         [-0.3506],\n",
       "         [ 0.0566]],\n",
       "\n",
       "        [[-0.3798],\n",
       "         [-0.6336],\n",
       "         [ 0.1257],\n",
       "         ...,\n",
       "         [ 0.3805],\n",
       "         [-0.2626],\n",
       "         [-0.3464]],\n",
       "\n",
       "        [[-0.4227],\n",
       "         [-0.1682],\n",
       "         [ 0.3023],\n",
       "         ...,\n",
       "         [-0.3653],\n",
       "         [-0.9346],\n",
       "         [-0.9464]],\n",
       "\n",
       "        ...,\n",
       "\n",
       "        [[ 0.1431],\n",
       "         [-0.9160],\n",
       "         [ 0.3319],\n",
       "         ...,\n",
       "         [-0.7860],\n",
       "         [-0.9124],\n",
       "         [-0.3662]],\n",
       "\n",
       "        [[ 0.2538],\n",
       "         [ 0.1259],\n",
       "         [ 0.2928],\n",
       "         ...,\n",
       "         [-0.4946],\n",
       "         [-0.6196],\n",
       "         [-0.1226]],\n",
       "\n",
       "        [[-0.1587],\n",
       "         [-0.6593],\n",
       "         [-0.0476],\n",
       "         ...,\n",
       "         [-0.2865],\n",
       "         [-0.8555],\n",
       "         [-0.8475]]], grad_fn=<SliceBackward0>)"
      ]
     },
     "execution_count": 42,
     "metadata": {},
     "output_type": "execute_result"
    }
   ],
   "source": [
    "enc_out_4[:,-10:,-1:]"
   ]
  },
  {
   "cell_type": "code",
   "execution_count": 44,
   "metadata": {},
   "outputs": [
    {
     "data": {
      "text/plain": [
       "tensor([[[-0.0006],\n",
       "         [ 0.0008],\n",
       "         [ 0.0010],\n",
       "         ...,\n",
       "         [ 0.0004],\n",
       "         [-0.0003],\n",
       "         [-0.0006]],\n",
       "\n",
       "        [[ 0.0008],\n",
       "         [ 0.0010],\n",
       "         [ 0.0004],\n",
       "         ...,\n",
       "         [-0.0003],\n",
       "         [-0.0006],\n",
       "         [ 0.0015]],\n",
       "\n",
       "        [[ 0.0010],\n",
       "         [ 0.0004],\n",
       "         [-0.0003],\n",
       "         ...,\n",
       "         [-0.0006],\n",
       "         [ 0.0015],\n",
       "         [-0.0007]],\n",
       "\n",
       "        ...,\n",
       "\n",
       "        [[-0.0004],\n",
       "         [ 0.0005],\n",
       "         [-0.0006],\n",
       "         ...,\n",
       "         [-0.0005],\n",
       "         [ 0.0010],\n",
       "         [-0.0002]],\n",
       "\n",
       "        [[ 0.0005],\n",
       "         [-0.0006],\n",
       "         [-0.0003],\n",
       "         ...,\n",
       "         [ 0.0010],\n",
       "         [-0.0002],\n",
       "         [ 0.0003]],\n",
       "\n",
       "        [[-0.0006],\n",
       "         [-0.0003],\n",
       "         [-0.0001],\n",
       "         ...,\n",
       "         [-0.0002],\n",
       "         [ 0.0003],\n",
       "         [-0.0004]]], dtype=torch.float64)"
      ]
     },
     "execution_count": 44,
     "metadata": {},
     "output_type": "execute_result"
    }
   ],
   "source": [
    "batch_y[:,-10:,-1:]"
   ]
  },
  {
   "cell_type": "code",
   "execution_count": 58,
   "metadata": {},
   "outputs": [],
   "source": [
    "pred = np.load(\"/home/lchang003/Time-Series-Library/results/long_term_forecast_btc_96_96_nontimef_no_scale_TimesNet_custom_ftMS_sl96_ll0_pl1_dm8_nh8_el2_dl1_df8_expand2_dc4_fc3_ebtimeF_dtTrue_Exp_0/pred.npy\", allow_pickle=True)\n",
    "true = np.load(\"/home/lchang003/Time-Series-Library/results/long_term_forecast_btc_96_96_nontimef_no_scale_TimesNet_custom_ftMS_sl96_ll0_pl1_dm8_nh8_el2_dl1_df8_expand2_dc4_fc3_ebtimeF_dtTrue_Exp_0/true.npy\", allow_pickle=True)"
   ]
  },
  {
   "cell_type": "code",
   "execution_count": 59,
   "metadata": {},
   "outputs": [],
   "source": [
    "import pandas as pd\n"
   ]
  },
  {
   "cell_type": "code",
   "execution_count": 62,
   "metadata": {},
   "outputs": [
    {
     "data": {
      "text/plain": [
       "array([[1.        , 0.00147291],\n",
       "       [0.00147291, 1.        ]])"
      ]
     },
     "execution_count": 62,
     "metadata": {},
     "output_type": "execute_result"
    }
   ],
   "source": [
    "np.corrcoef(pred.flatten(), true.flatten())"
   ]
  },
  {
   "cell_type": "code",
   "execution_count": 64,
   "metadata": {},
   "outputs": [],
   "source": [
    "%matplotlib inline"
   ]
  },
  {
   "cell_type": "code",
   "execution_count": null,
   "metadata": {},
   "outputs": [
    {
     "data": {
      "text/plain": [
       "<Axes: >"
      ]
     },
     "execution_count": 65,
     "metadata": {},
     "output_type": "execute_result"
    }
   ],
   "source": []
  },
  {
   "cell_type": "code",
   "execution_count": 70,
   "metadata": {},
   "outputs": [
    {
     "data": {
      "image/png": "[encoded data removed]",
      "text/plain": [
       "<Figure size 640x480 with 1 Axes>"
      ]
     },
     "metadata": {},
     "output_type": "display_data"
    }
   ],
   "source": [
    "import matplotlib.pyplot as plt\n",
    "pd.Series(true[:,0,0].flatten()).plot()\n",
    "plt.show()"
   ]
  }
 ],
 "metadata": {
  "kernelspec": {
   "display_name": "timesnet",
   "language": "python",
   "name": "python3"
  },
  "language_info": {
   "codemirror_mode": {
    "name": "ipython",
    "version": 3
   },
   "file_extension": ".py",
   "mimetype": "text/x-python",
   "name": "python",
   "nbconvert_exporter": "python",
   "pygments_lexer": "ipython3",
   "version": "3.8.20"
  }
 },
 "nbformat": 4,
 "nbformat_minor": 2
}
